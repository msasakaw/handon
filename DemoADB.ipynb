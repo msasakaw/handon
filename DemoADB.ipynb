{
 "cells": [
  {
   "cell_type": "markdown",
   "metadata": {},
   "source": [
    "## Vector Search in Oracle DB 23ai"
   ]
  },
  {
   "cell_type": "markdown",
   "metadata": {},
   "source": [
    "- logging: Pythonの標準ライブラリでログ記録のため\n",
    "- os: 環境変数を操作するために使用\n",
    "- sys: Pythonのシステム固有のパラメータや関数にアクセスするために使用\n",
    "- dotenv.load_dotenv と dotenv.find_dotenv: python-dotenvパッケージの関数で、.envファイルから環境変数を読み込み"
   ]
  },
  {
   "cell_type": "code",
   "execution_count": 1,
   "metadata": {},
   "outputs": [],
   "source": [
    "import logging\n",
    "import os\n",
    "import sys\n",
    "from dotenv import load_dotenv, find_dotenv"
   ]
  },
  {
   "cell_type": "markdown",
   "metadata": {},
   "source": [
    "- .envファイルから環境変数を読み込んで、プログラム内で使用できるようにします。\n",
    "- logger = logging.getLogger(__name__): 現在のモジュール名を使用してロガーオブジェクトを作成します。\n",
    "- handler = logging.StreamHandler(sys.stdout): 標準出力（コンソール）にログメッセージを送るストリームハンドラを作成します。"
   ]
  },
  {
   "cell_type": "markdown",
   "metadata": {},
   "source": [
    "- log_level = os.getenv(\"LOG_LEVEL\", \"ERROR\").upper(): 環境変数 LOG_LEVEL からログレベルを取得します。LOG_LEVEL が設定されていない場合はデフォルトで \"ERROR\" になります。upper() メソッドでログレベルを大文字に変換します。\n",
    "- handler.setLevel(log_level): ハンドラのログレベルを設定します。\n",
    "- logger.setLevel(log_level): ロガーのログレベルを設定します。"
   ]
  },
  {
   "cell_type": "code",
   "execution_count": 2,
   "metadata": {},
   "outputs": [],
   "source": [
    "_ = load_dotenv(find_dotenv())\n",
    "\n",
    "logger = logging.getLogger(__name__)\n",
    "handler = logging.StreamHandler(sys.stdout)\n",
    "log_level = os.getenv(\"LOG_LEVEL\", \"ERROR\").upper()\n",
    "handler.setLevel(log_level)\n",
    "logger.setLevel(log_level)"
   ]
  },
  {
   "cell_type": "markdown",
   "metadata": {},
   "source": [
    "- glob: ファイルパスのパターンマッチングを行うために使用されます。\n",
    "- Docx2txtLoader: .docx ファイルを読み込むためのクラスで、langchain_community.document_loaders モジュールからインポートします。"
   ]
  },
  {
   "cell_type": "code",
   "execution_count": 3,
   "metadata": {},
   "outputs": [],
   "source": [
    "import glob\n",
    "from langchain_community.document_loaders import Docx2txtLoader"
   ]
  },
  {
   "cell_type": "markdown",
   "metadata": {},
   "source": [
    "../data/ ディレクトリ内のすべての .docx ファイルを取得"
   ]
  },
  {
   "cell_type": "code",
   "execution_count": 4,
   "metadata": {},
   "outputs": [],
   "source": [
    "files = glob.glob(\"./data/*.docx\")"
   ]
  },
  {
   "cell_type": "markdown",
   "metadata": {},
   "source": [
    "ドキュメントの初期化"
   ]
  },
  {
   "cell_type": "code",
   "execution_count": 5,
   "metadata": {},
   "outputs": [],
   "source": [
    "documents = []"
   ]
  },
  {
   "cell_type": "markdown",
   "metadata": {},
   "source": [
    "### ファイルの読み込みとログ出力:"
   ]
  },
  {
   "cell_type": "markdown",
   "metadata": {},
   "source": [
    "for file in files: 取得したファイルリストをループで処理します。\n",
    "- logger.debug(f\"loaded file name: {file}\"): 現在処理中のファイル名をデバッグログに出力します。\n",
    "- loader = Docx2txtLoader(file): Docx2txtLoader のインスタンスを作成し、ファイルをロードします。\n",
    "- document = loader.load(): ファイルの内容を読み込みます。\n",
    "- logger.debug(f\"content: {document}\"): 読み込んだファイルの内容をデバッグログに出力します。\n",
    "- documents.extend(document): 読み込んだドキュメントを documents リストに追加します。"
   ]
  },
  {
   "cell_type": "code",
   "execution_count": 6,
   "metadata": {},
   "outputs": [],
   "source": [
    "for file in files:\n",
    "    logger.debug(f\"loaded file name: {file}\")\n",
    "    loader = Docx2txtLoader(file)\n",
    "    document = loader.load()\n",
    "    logger.debug(f\"content: {document}\")\n",
    "    documents.extend(document)\n"
   ]
  },
  {
   "cell_type": "code",
   "execution_count": 7,
   "metadata": {},
   "outputs": [],
   "source": [
    "logger.info(f\"documents: {documents}\")"
   ]
  },
  {
   "cell_type": "markdown",
   "metadata": {},
   "source": [
    "### 読み込んだドキュメントをチャンク分割"
   ]
  },
  {
   "cell_type": "code",
   "execution_count": 8,
   "metadata": {},
   "outputs": [],
   "source": [
    "import oracledb\n",
    "from langchain_community.vectorstores.oraclevs import OracleVS\n",
    "from langchain_community.vectorstores.utils import DistanceStrategy\n",
    "from langchain_community.embeddings.oci_generative_ai import OCIGenAIEmbeddings\n",
    "from langchain_community.document_loaders.oracleai import OracleTextSplitter"
   ]
  },
  {
   "cell_type": "code",
   "execution_count": 9,
   "metadata": {},
   "outputs": [
    {
     "name": "stderr",
     "output_type": "stream",
     "text": [
      "2024-07-22 05:23:07,879 - DEBUG - username: vector\n",
      "2024-07-22 05:23:07,881 - DEBUG - password: Welcome123##\n",
      "2024-07-22 05:23:07,885 - DEBUG - dsn: lbr4os9vcq1jmoml_high\n",
      "2024-07-22 05:23:07,885 - DEBUG - wallet dir: /home/opc/network/admin\n",
      "2024-07-22 05:23:07,886 - DEBUG - wallet password: Welcome123##\n",
      "2024-07-22 05:23:07,887 - DEBUG - table name: rule\n",
      "2024-07-22 05:23:07,888 - DEBUG - compartment id: ocid1.compartment.oc1..aaaaaaaaf47nqirak4i2wfp3t4sepz4y6dl2pbuv2iv767mteqpalwfidbpq\n",
      "2024-07-22 05:23:07,890 - DEBUG - service endpoint: https://inference.generativeai.us-chicago-1.oci.oraclecloud.com\n"
     ]
    }
   ],
   "source": [
    "# for Oracle Database 23ai\n",
    "username = os.getenv(\"USERNAME\")\n",
    "password = os.getenv(\"PASSWORD\")\n",
    "dsn = os.getenv(\"DSN\")\n",
    "config_dir = os.getenv(\"CONFIG_DIR\")\n",
    "wallet_dir = os.getenv(\"WALLET_DIR\")\n",
    "wallet_password = os.getenv(\"WALLET_PASSWORD\")\n",
    "table_name = os.getenv(\"TABLE_NAME\")\n",
    "\n",
    "logger.debug(f\"username: {username}\")\n",
    "logger.debug(f\"password: {password}\")\n",
    "logger.debug(f\"dsn: {dsn}\")\n",
    "logger.debug(f\"wallet dir: {wallet_dir}\")\n",
    "logger.debug(f\"wallet password: {wallet_password}\")\n",
    "logger.debug(f\"table name: {table_name}\")\n",
    "\n",
    "# for OCI Generative AI Service\n",
    "compartment_id = os.getenv(\"COMPARTMENT_ID\")\n",
    "service_endpoint = os.getenv(\"SERVICE_ENDPOINT\")\n",
    "\n",
    "logger.debug(f\"compartment id: {compartment_id}\")\n",
    "logger.debug(f\"service endpoint: {service_endpoint}\")\n"
   ]
  },
  {
   "cell_type": "code",
   "execution_count": 10,
   "metadata": {},
   "outputs": [],
   "source": [
    "connection = oracledb.connect(\n",
    "    dsn=dsn,\n",
    "    user=username,\n",
    "    password=password,\n",
    "    config_dir=config_dir,\n",
    "    wallet_location=wallet_dir,\n",
    "    wallet_password=wallet_password\n",
    ")"
   ]
  },
  {
   "cell_type": "code",
   "execution_count": 11,
   "metadata": {},
   "outputs": [
    {
     "name": "stderr",
     "output_type": "stream",
     "text": [
      "2024-07-22 05:23:08,126 - DEBUG - Starting new HTTP connection (1): 169.254.169.254:80\n",
      "2024-07-22 05:23:08,133 - DEBUG - http://169.254.169.254:80 \"GET /opc/v2/identity/cert.pem HTTP/1.1\" 200 None\n",
      "2024-07-22 05:23:08,143 - DEBUG - http://169.254.169.254:80 \"GET /opc/v2/identity/key.pem HTTP/1.1\" 200 1679\n",
      "2024-07-22 05:23:08,187 - DEBUG - Starting new HTTP connection (1): 169.254.169.254:80\n",
      "2024-07-22 05:23:08,193 - DEBUG - http://169.254.169.254:80 \"GET /opc/v2/identity/intermediate.pem HTTP/1.1\" 200 None\n",
      "2024-07-22 05:23:08,283 - DEBUG - Starting new HTTP connection (1): 169.254.169.254:80\n",
      "2024-07-22 05:23:08,291 - DEBUG - http://169.254.169.254:80 \"GET /opc/v2/instance/region HTTP/1.1\" 200 10\n",
      "2024-07-22 05:23:08,314 - DEBUG - http://169.254.169.254:80 \"GET /opc/v2/identity/cert.pem HTTP/1.1\" 200 None\n",
      "2024-07-22 05:23:08,325 - DEBUG - http://169.254.169.254:80 \"GET /opc/v2/identity/key.pem HTTP/1.1\" 200 1679\n",
      "2024-07-22 05:23:08,375 - DEBUG - http://169.254.169.254:80 \"GET /opc/v2/identity/intermediate.pem HTTP/1.1\" 200 None\n",
      "2024-07-22 05:23:08,379 - DEBUG - Starting new HTTPS connection (1): auth.ap-tokyo-1.oraclecloud.com:443\n",
      "2024-07-22 05:23:08,404 - DEBUG - https://auth.ap-tokyo-1.oraclecloud.com:443 \"POST /v1/x509 HTTP/1.1\" 200 2276\n"
     ]
    }
   ],
   "source": [
    "embedding_function = OCIGenAIEmbeddings(\n",
    "    auth_type=\"INSTANCE_PRINCIPAL\",\n",
    "    model_id=\"cohere.embed-multilingual-v3.0\",\n",
    "    service_endpoint=service_endpoint,\n",
    "    compartment_id=compartment_id,\n",
    ")"
   ]
  },
  {
   "cell_type": "markdown",
   "metadata": {},
   "source": [
    "### 埋め込み関数の設定\n",
    "- auth_type=\"INSTANCE_PRINCIPAL\": インスタンスプリンシパル認証を使用してOCIにアクセスします。\n",
    "- model_id=\"cohere.embed-multilingual-v3.0\": Cohereの多言語埋め込みモデルを指定しています。\n",
    "- service_endpoint: OCIのジェネレーティブ AI サービスのエンドポイント。\n",
    "- compartment_id: OCI コンパートメント ID。"
   ]
  },
  {
   "cell_type": "code",
   "execution_count": 13,
   "metadata": {},
   "outputs": [
    {
     "name": "stderr",
     "output_type": "stream",
     "text": [
      "2024-07-22 05:23:08,725 - DEBUG - Starting new HTTPS connection (1): inference.generativeai.us-chicago-1.oci.oraclecloud.com:443\n",
      "2024-07-22 05:23:09,973 - DEBUG - https://inference.generativeai.us-chicago-1.oci.oraclecloud.com:443 \"POST /20231130/actions/embedText HTTP/1.1\" 200 5285\n",
      "2024-07-22 05:23:10,197 - INFO - Table already exists...\n"
     ]
    }
   ],
   "source": [
    "\n",
    "oracle_vs = OracleVS(\n",
    "    client=connection,\n",
    "    embedding_function=embedding_function,\n",
    "    table_name=table_name,\n",
    "    distance_strategy=DistanceStrategy.COSINE,\n",
    "    query=\"What is Oracle Database?\"\n",
    ")"
   ]
  },
  {
   "cell_type": "markdown",
   "metadata": {},
   "source": [
    "### Oracle Vector Store の設定\n",
    "- client=connection: Oracle データベースへの接続。\n",
    "- embedding_function=embedding_function: 前述の埋め込み関数。\n",
    "- table_name=table_name: ベクトル検索を行うテーブルの名前。\n",
    "- distance_strategy=DistanceStrategy.COSINE: コサイン距離を使用したベクトル比較戦略。\n",
    "- query=\"What is Oracle Database?\": 実行するクエリ。\n"
   ]
  },
  {
   "cell_type": "code",
   "execution_count": 14,
   "metadata": {},
   "outputs": [],
   "source": [
    "splitter_params = {\"split\": \"recursively\", \"max\": 300, \"by\": \"words\", \"overlap\": 30, \"normalize\": \"all\"}\n",
    "splitter = OracleTextSplitter(conn=connection, params=splitter_params)\n",
    "\n",
    "data = splitter.split_documents(documents=documents)"
   ]
  },
  {
   "cell_type": "markdown",
   "metadata": {},
   "source": [
    "### Oracle Text Spliter\n",
    "1. Spliterのパラメータと接続情報を渡して分割\n",
    "2. dataに格納"
   ]
  },
  {
   "cell_type": "code",
   "execution_count": 15,
   "metadata": {},
   "outputs": [
    {
     "name": "stderr",
     "output_type": "stream",
     "text": [
      "2024-07-22 05:23:10,644 - DEBUG - https://inference.generativeai.us-chicago-1.oci.oraclecloud.com:443 \"POST /20231130/actions/embedText HTTP/1.1\" 200 79386\n"
     ]
    },
    {
     "data": {
      "text/plain": [
       "['4B956415826EBC09',\n",
       " '3B48B888AA8E7042',\n",
       " '09F83738B4EF51FB',\n",
       " '7D8C21918FC3F911',\n",
       " 'B36D92A729C1C4E4',\n",
       " '66D616031E1C5965',\n",
       " '0B97B3014278BEBF',\n",
       " 'F2382A31E0846FF4',\n",
       " '92F8E3F23053736E',\n",
       " '95FC1ECD4BAE32C7',\n",
       " 'ABD0B3D16DDCDB3F',\n",
       " '4B71EF05F3151F66',\n",
       " '850E7E275D52A326',\n",
       " 'D764C4DAA147648D',\n",
       " 'EB4823FED80032C2',\n",
       " 'C5596A81FE265C34',\n",
       " '34301399CAF4406F',\n",
       " '7F4A579110BD1CA8']"
      ]
     },
     "execution_count": 15,
     "metadata": {},
     "output_type": "execute_result"
    }
   ],
   "source": [
    "oracle_vs.add_documents(documents=data)"
   ]
  },
  {
   "cell_type": "code",
   "execution_count": null,
   "metadata": {},
   "outputs": [],
   "source": [
    "from langchain_core.runnables import RunnablePassthrough\n",
    "from langchain_core.prompts import PromptTemplate\n",
    "from langchain_core.output_parsers import StrOutputParser\n",
    "from langchain_community.chat_models.oci_generative_ai import ChatOCIGenAI\n",
    "\n",
    "chat = ChatOCIGenAI(\n",
    "    auth_type=\"INSTANCE_PRINCIPAL\",\n",
    "    service_endpoint=service_endpoint,\n",
    "    compartment_id=compartment_id,\n",
    "    model_id=\"cohere.command-r-plus\",\n",
    "    is_stream=False,\n",
    "    model_kwargs={\n",
    "        \"temperature\": 0,\n",
    "        \"max_tokens\": 500,\n",
    "        \"top_p\": 0.75,\n",
    "        \"top_k\": 0,\n",
    "        \"frequency_penalty\": 0,\n",
    "        \"presence_penalty\": 0\n",
    "    }\n",
    ")\n",
    "\n",
    "template = \"\"\"\n",
    "可能な限り、検索によって得られたコンテキストに則って回答を作成してください。\n",
    "コンテキスト: {context}\n",
    "---\n",
    "質問: {query}\n",
    "\"\"\"\n",
    "\n",
    "prompt_template = PromptTemplate.from_template(\n",
    "    template=template,\n",
    ")\n",
    "\n",
    "chain = (\n",
    "    {\"context\": oracle_vs.as_retriever(), \"query\": RunnablePassthrough()}\n",
    "    | prompt_template\n",
    "    | chat\n",
    "    | StrOutputParser()\n",
    ")\n",
    "\n",
    "# ストリーム出力の代わりにinvoke()を使用\n",
    "res = chain.invoke(\"海外出張って日当とかでるんでしたっけ？\")\n",
    "\n",
    "print(res)\n"
   ]
  }
 ],
 "metadata": {
  "kernelspec": {
   "display_name": "Python 3",
   "language": "python",
   "name": "python3"
  },
  "language_info": {
   "codemirror_mode": {
    "name": "ipython",
    "version": 3
   },
   "file_extension": ".py",
   "mimetype": "text/x-python",
   "name": "python",
   "nbconvert_exporter": "python",
   "pygments_lexer": "ipython3",
   "version": "3.11.9"
  }
 },
 "nbformat": 4,
 "nbformat_minor": 2
}
