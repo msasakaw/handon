{
 "cells": [
  {
   "cell_type": "markdown",
   "metadata": {},
   "source": [
    "## Vector Search in Oracle DB 23ai"
   ]
  },
  {
   "cell_type": "markdown",
   "metadata": {},
   "source": [
    "- logging: Pythonの標準ライブラリでログ記録のため\n",
    "- os: 環境変数を操作するために使用\n",
    "- sys: Pythonのシステム固有のパラメータや関数にアクセスするために使用\n",
    "- dotenv.load_dotenv と dotenv.find_dotenv: python-dotenvパッケージの関数で、.envファイルから環境変数を読み込み"
   ]
  },
  {
   "cell_type": "code",
   "execution_count": 14,
   "metadata": {},
   "outputs": [],
   "source": [
    "from oci.config import from_file\n",
    "from oci.auth.signers import InstancePrincipalsSecurityTokenSigner\n",
    "from oci.generative_ai_agent_runtime.generative_ai_agent_runtime_client import GenerativeAiAgentRuntimeClient\n",
    "from oci.generative_ai_agent_runtime.models import ChatDetails, CreateSessionDetails"
   ]
  },
  {
   "cell_type": "code",
   "execution_count": 16,
   "metadata": {},
   "outputs": [
    {
     "name": "stdout",
     "output_type": "stream",
     "text": [
      "この規程は、海外出張者の旅費支給等に関する規定です。交通費は実費支給で、航空機はエコノミークラス、鉄道や船舶はエコノミークラス相当の利用が原則です。宿泊費と日当は出張期間中の1日につき別表の金額で、物価高騰などやむを得ない場合は所属長の承認で実費支給が可能です。その他、支度金10,000円や海外旅行傷害保険の付保、国内での旅費や手続き費用なども規定されています。\n"
     ]
    }
   ],
   "source": [
    "agents_client = GenerativeAiAgentRuntimeClient(\n",
    "    config=from_file(profile_name=\"CHICAGO\"),\n",
    "    service_endpoint=\"https://agent-runtime.generativeai.us-chicago-1.oci.oraclecloud.com\"\n",
    ")\n",
    "\n",
    "session_id = agents_client.create_session(\n",
    "    create_session_details=CreateSessionDetails(\n",
    "        display_name=\"test-session\",\n",
    "        description=\"waiwai\",\n",
    "    ),\n",
    "    agent_endpoint_id=\"ocid1.genaiagentendpoint.oc1.us-chicago-1.******\"\n",
    ")\n",
    "\n",
    "# print(session_id.data.id)\n",
    "\n",
    "response = agents_client.chat(\n",
    "    agent_endpoint_id=\"ocid1.genaiagentendpoint.oc1.us-chicago-1.******",\n",
    "    chat_details=ChatDetails(\n",
    "        user_message=\"海外の出張の規定を教えて\",\n",
    "        session_id=session_id.data.id,\n",
    "        should_stream=False\n",
    "    )\n",
    ")\n",
    "\n",
    "print(response.data.message.content.text)"
   ]
  }
 ],
 "metadata": {
  "kernelspec": {
   "display_name": "Python 3",
   "language": "python",
   "name": "python3"
  },
  "language_info": {
   "codemirror_mode": {
    "name": "ipython",
    "version": 3
   },
   "file_extension": ".py",
   "mimetype": "text/x-python",
   "name": "python",
   "nbconvert_exporter": "python",
   "pygments_lexer": "ipython3",
   "version": "3.11.9"
  }
 },
 "nbformat": 4,
 "nbformat_minor": 2
}
